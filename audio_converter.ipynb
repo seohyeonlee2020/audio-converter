{
  "nbformat": 4,
  "nbformat_minor": 0,
  "metadata": {
    "colab": {
      "provenance": []
    },
    "kernelspec": {
      "name": "python3",
      "display_name": "Python 3"
    },
    "language_info": {
      "name": "python"
    }
  },
  "cells": [
    {
      "cell_type": "code",
      "source": [
        "import os\n",
        "from pydub import AudioSegment"
      ],
      "metadata": {
        "id": "8qUGO6wCNx0p"
      },
      "execution_count": null,
      "outputs": []
    },
    {
      "cell_type": "markdown",
      "source": [],
      "metadata": {
        "id": "2YO-YqqVVPPY"
      }
    },
    {
      "cell_type": "code",
      "execution_count": null,
      "metadata": {
        "id": "iVV29dw4Nsb6"
      },
      "outputs": [],
      "source": [
        "#enter full path to folder with audio files you want to convert from\n",
        "input_directory = \"\"\n",
        "\n",
        "#enter full path to folder where you want converted audio files to go into\n",
        "output_directory = \"\"\n",
        "\n",
        "#Pick file format to convert from (ex: '.m4a'). All files in the folder must be the same format\n",
        "convert_from = \".m4a\"\n",
        "\n",
        "#enter desired output format (ex: '.wav')\n",
        "convert_to = \".wav\"\n",
        "\n",
        "def convert_audio_files(input_folder, output_folder, convert_from='.m4a', convert_to='.wav'):\n",
        "    if not os.path.exists(output_folder):\n",
        "        os.makedirs(output_folder)\n",
        "\n",
        "    for filename in os.listdir(input_folder):\n",
        "        if filename.lower().endswith(convert_from):\n",
        "            original_filepath = os.path.join(input_folder, filename)\n",
        "            converted_filename = os.path.splitext(filename)[0] + convert_from\n",
        "            converted_filepath = os.path.join(output_folder, converted_filename )\n",
        "\n",
        "            try:\n",
        "                sound = AudioSegment.from_file(original_filepath, format=convert_from)\n",
        "                sound.export(converted_filepath, format=convert_to)\n",
        "                print(f\"Converted '{filename}' to '{converted_filename}'\")\n",
        "            except Exception as e:\n",
        "                print(f\"Error converting '{filename}': {e}\")\n",
        "\n",
        "\n",
        "\n",
        "convert_audio_files(input_directory, output_directory, convert_from, convert_to)"
      ]
    }
  ]
}